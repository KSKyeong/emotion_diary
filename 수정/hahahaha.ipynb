{
 "cells": [
  {
   "cell_type": "code",
   "execution_count": 10,
   "metadata": {
    "scrolled": false
   },
   "outputs": [
    {
     "name": "stdout",
     "output_type": "stream",
     "text": [
      "There is GPS info in this picture located at 37.60146654777222,126.95453340586667\n",
      "2019-12-15 16:52:46\n",
      "There is GPS info in this picture located at 37.5824,127.00176111111111\n",
      "2019-12-15 19:28:36\n",
      "There is GPS info in this picture located at 37.57286388888889,126.97689166666666\n",
      "2019-12-15 18:30:26\n",
      "There is GPS info in this picture located at 37.52922777777778,126.96897777777778\n",
      "2019-12-15 19:59:59\n"
     ]
    }
   ],
   "source": [
    "import sys\n",
    "import os\n",
    "from PIL import Image\n",
    "from PIL.ExifTags import TAGS\n",
    "import folium \n",
    "import base64\n",
    "import datetime\n",
    "import webbrowser\n",
    "\n",
    "\n",
    "def GPS_Marker(filename):\n",
    "    extension = filename.split('.')[-1]\n",
    "    if (extension == 'jpg') | (extension == 'JPG') | (extension == 'jpeg') | (extension == 'JPEG'):\n",
    "        try:\n",
    "            img = Image.open(filename)\n",
    "            info = img._getexif()\n",
    "            exif = {}\n",
    "            for tag, value in info.items():\n",
    "                decoded = TAGS.get(tag, tag)\n",
    "                exif[decoded] = value\n",
    "            # from the exif data, extract gps\n",
    "            exifGPS = exif['GPSInfo']\n",
    "            latData = exifGPS[2]\n",
    "            lonData = exifGPS[4]\n",
    "            # calculae the lat / long\n",
    "            latDeg = latData[0][0] / float(latData[0][1])\n",
    "            latMin = latData[1][0] / float(latData[1][1])\n",
    "            latSec = latData[2][0] / float(latData[2][1])\n",
    "            lonDeg = lonData[0][0] / float(lonData[0][1])\n",
    "            lonMin = lonData[1][0] / float(lonData[1][1])\n",
    "            lonSec = lonData[2][0] / float(lonData[2][1])\n",
    "            # correct the lat/lon based on N/E/W/S\n",
    "            Lat = (latDeg + (latMin + latSec / 60.0) / 60.0)\n",
    "            if exifGPS[1] == 'S': Lat = Lat * -1\n",
    "            Lon = (lonDeg + (lonMin + lonSec / 60.0) / 60.0)\n",
    "            if exifGPS[3] == 'W': Lon = Lon * -1\n",
    "            # print file\n",
    "            msg = \"There is GPS info in this picture located at \" + str(Lat) + \",\" + str(Lon)\n",
    "            print (msg)\n",
    "            \n",
    "        except:\n",
    "                print ('There is no GPS info in this picture')\n",
    "                pass\n",
    "        \n",
    "        pic = base64.b64encode(open(filename,'rb').read()).decode()\n",
    "        image_tag = '<img src=\"data:image/jpeg;base64,{}\"style=\"width:180px;height:200px;\">'.format(pic)\n",
    "        iframe = folium.IFrame(image_tag, width=150, height=200)\n",
    "        pop = folium.Popup(iframe, max_width=400)\n",
    "        name=filename.split('z')[0]\n",
    "        if name =='Happy' : \n",
    "            ic=\"star\"\n",
    "            col=\"pink\"\n",
    "        if name =='Sad' : col = \"black\"\n",
    "        if name =='Angry' : \n",
    "            #ic=\"star\"\n",
    "            col=\"cadetblue\"\n",
    "        if name =='Neutral' : \n",
    "            #ic=\"cloud\"\n",
    "            col=\"green\"\n",
    "        \n",
    "        cft=datetime.datetime.fromtimestamp(os.path.getctime(filename))\n",
    "        strcft=cft.strftime('%Y-%m-%d %H:%M:%S')\n",
    "        print(strcft)\n",
    "        \n",
    "       \n",
    "        folium.Marker([str(Lat),str(Lon)],popup=pop,icon=folium.Icon(color=col),tooltip=name +'&'+ strcft).add_to(m)\n",
    "        m.save('testtest.html')\n",
    "\n",
    "if __name__ == '__main__':\n",
    "    m= folium.Map(location=[37.56,127],zoom_start=12.5)\n",
    "    m.save(r\"testtest.html\")\n",
    "    \n",
    "    GPS_Marker(r\"Happyz.jpg\")\n",
    "    GPS_Marker(r\"Happyz2.jpg\")\n",
    "    #GPS_Marker(r\"Angryz.jpg\")\n",
    "    GPS_Marker(r\"Neutralz.jpg\")\n",
    "    GPS_Marker(r\"Neutralz2.jpg\")\n",
    "    \n",
    "    \n",
    "    webbrowser.open(r\"testtest.html\")\n",
    "    "
   ]
  },
  {
   "cell_type": "code",
   "execution_count": null,
   "metadata": {},
   "outputs": [],
   "source": []
  }
 ],
 "metadata": {
  "kernelspec": {
   "display_name": "Python 3",
   "language": "python",
   "name": "python3"
  },
  "language_info": {
   "codemirror_mode": {
    "name": "ipython",
    "version": 3
   },
   "file_extension": ".py",
   "mimetype": "text/x-python",
   "name": "python",
   "nbconvert_exporter": "python",
   "pygments_lexer": "ipython3",
   "version": "3.7.4"
  }
 },
 "nbformat": 4,
 "nbformat_minor": 2
}
